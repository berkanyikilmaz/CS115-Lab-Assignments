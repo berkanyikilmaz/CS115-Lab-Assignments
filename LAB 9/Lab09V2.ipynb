{
 "cells": [
  {
   "cell_type": "code",
   "execution_count": null,
   "id": "47ce0b1b",
   "metadata": {},
   "outputs": [],
   "source": [
    "# CS115 Lab 09 Questions"
   ]
  },
  {
   "cell_type": "markdown",
   "id": "8277cf2a",
   "metadata": {},
   "source": [
    "## *Question 01*"
   ]
  },
  {
   "cell_type": "markdown",
   "id": "65673d59",
   "metadata": {},
   "source": [
    "Import numpy"
   ]
  },
  {
   "cell_type": "code",
   "execution_count": 12,
   "id": "1a20a8e3",
   "metadata": {},
   "outputs": [],
   "source": [
    "import numpy as np"
   ]
  },
  {
   "cell_type": "markdown",
   "id": "a3949765",
   "metadata": {},
   "source": [
    "a.\tLoad the data from the file covid_data.txt into a numpy array, covid_data. \n",
    "b.\tLoad the data from the file covid_country.txt into a numpy array, covid_country. "
   ]
  },
  {
   "cell_type": "code",
   "execution_count": 13,
   "id": "85d28202",
   "metadata": {},
   "outputs": [],
   "source": [
    "covid_data = np.loadtxt('covid_data.txt')\n",
    "covid_country = np.loadtxt(\"covid_country.txt\", dtype = 'str', skiprows = 1)"
   ]
  },
  {
   "cell_type": "markdown",
   "id": "1c9237e0",
   "metadata": {},
   "source": [
    "c.\tTranspose and update the covid_data array."
   ]
  },
  {
   "cell_type": "code",
   "execution_count": 14,
   "id": "3ae2dbe9",
   "metadata": {},
   "outputs": [],
   "source": [
    "covid_data = covid_data.T"
   ]
  },
  {
   "cell_type": "markdown",
   "id": "b6c04282",
   "metadata": {},
   "source": [
    "d.\tCalculate and display the maximum tests per 1 million."
   ]
  },
  {
   "cell_type": "code",
   "execution_count": 15,
   "id": "c425104d",
   "metadata": {},
   "outputs": [
    {
     "name": "stdout",
     "output_type": "stream",
     "text": [
      "Maximum test per 1 million: 995282.0\n"
     ]
    }
   ],
   "source": [
    "tests = np.max(covid_data[:,2])\n",
    "print(\"Maximum test per 1 million:\", tests)"
   ]
  },
  {
   "cell_type": "markdown",
   "id": "c540e414",
   "metadata": {},
   "source": [
    "e.\tDisplay the names of the countries in Asia."
   ]
  },
  {
   "cell_type": "code",
   "execution_count": 16,
   "id": "ad130637",
   "metadata": {},
   "outputs": [
    {
     "name": "stdout",
     "output_type": "stream",
     "text": [
      "Countries in Asia: ['India' 'Iran' 'Saudi_Arabia' 'Pakistan' 'Bangladesh' 'Turkey' 'Iraq'\n",
      " 'Philippines' 'Indonesia' 'Qatar' 'Kazakhstan' 'Oman' 'Israel' 'Kuwait'\n",
      " 'UAE' 'Singapore' 'Bahrain' 'Japan' 'Armenia' 'Kyrgyzstan' 'Afghanistan'\n",
      " 'Azerbaijan' 'Uzbekistan' 'Nepal' 'South_Korea' 'Palestine' 'Malaysia'\n",
      " 'Lebanon' 'Maldives' 'Hong_Kong' 'Thailand' 'Sri_Lanka' 'Jordan' 'Cyprus'\n",
      " 'Georgia' 'Vietnam' 'Taiwan' 'Myanmar' 'Brunei']\n"
     ]
    }
   ],
   "source": [
    "asia_countries = covid_country[covid_country[:,1] == \"Asia\"]\n",
    "print(\"Countries in Asia:\", asia_countries[:,0])"
   ]
  },
  {
   "cell_type": "markdown",
   "id": "8c4cfae3",
   "metadata": {},
   "source": [
    "f.\tDisplay the names of the countries with death numbers less than 50"
   ]
  },
  {
   "cell_type": "code",
   "execution_count": 17,
   "id": "1d4a707f",
   "metadata": {},
   "outputs": [
    {
     "name": "stdout",
     "output_type": "stream",
     "text": [
      "Countries with less than 50 deaths per 1 million: [['India' 'Pakistan' 'Bangladesh' 'Philippines' 'Indonesia' 'Egypt'\n",
      "  'Ukraine' 'UAE' 'Singapore' 'Poland' 'Nigeria' 'Japan' 'Ghana'\n",
      "  'Afghanistan' 'Azerbaijan' 'Morocco' 'Uzbekistan' 'Kenya' 'Venezuela'\n",
      "  'Nepal' 'Costa_Rica' 'Ethiopia' 'Australia' 'Czechia' 'Cameroon'\n",
      "  'Ivory_Coast' 'South_Korea' 'Palestine' 'Madagascar' 'Sudan' 'Senegal'\n",
      "  'Norway' 'Malaysia' 'Gabon' 'Guinea' 'Haiti' 'Zambia' 'Mauritania'\n",
      "  'Paraguay' 'Lebanon' 'Croatia' 'Greece' 'Libya' 'Maldives' 'CAR'\n",
      "  'Malawi' 'Zimbabwe' 'Hong_Kong' 'Thailand' 'Eswatini' 'Sri_Lanka'\n",
      "  'Cuba' 'Cabo_Verde' 'Namibia' 'Mali' 'Slovakia' 'South_Sudan'\n",
      "  'Lithuania' 'Estonia' 'Mozambique' 'Rwanda' 'Suriname' 'Guinea-Bissau'\n",
      "  'Benin' 'Iceland' 'Tunisia' 'New_Zealand' 'Angola' 'Uruguay' 'Latvia'\n",
      "  'Jordan' 'Uganda' 'Cyprus' 'Georgia' 'Niger' 'Togo' 'Jamaica' 'Malta'\n",
      "  'Gambia' 'Botswana' 'Bahamas' 'Vietnam' 'Lesotho' 'Reunion' 'Guyana'\n",
      "  'Taiwan' 'Burundi' 'Myanmar' 'Mauritius' 'Guadeloupe' 'Martinique'\n",
      "  'Aruba' 'Trinidad_Tobago' 'Cayman_Islands' 'Papua_New_Guinea' 'Brunei'\n",
      "  'Barbados' 'Antigua_Barbuda' 'Liechtenstein' 'Belize' 'Curacao' 'Fiji']]\n"
     ]
    }
   ],
   "source": [
    "ind = np.where(covid_data[:,1] < 50)\n",
    "print(\"Countries with less than 50 deaths per 1 million:\", covid_country[ind,0])"
   ]
  },
  {
   "cell_type": "markdown",
   "id": "bf9c28ce",
   "metadata": {},
   "source": [
    "g.\tCalculate and display the average cases per 1 million for Europe."
   ]
  },
  {
   "cell_type": "code",
   "execution_count": 18,
   "id": "52700475",
   "metadata": {},
   "outputs": [
    {
     "name": "stdout",
     "output_type": "stream",
     "text": [
      "Average cases per 1 million in Europe: 4075.3555555555554\n"
     ]
    }
   ],
   "source": [
    "eu_ind = np.where(covid_country[:,1] == 'Europe')\n",
    "avg_case = np.mean(covid_data[eu_ind,0])\n",
    "print(\"Average cases per 1 million in Europe:\", avg_case)"
   ]
  },
  {
   "cell_type": "markdown",
   "id": "66e7be8c",
   "metadata": {},
   "source": [
    "h.\tDisplay the name of the countr(ies) with the minimum total cases per million in Europe(note: there may be more than one country with the same minimum total cases per million in Europe."
   ]
  },
  {
   "cell_type": "code",
   "execution_count": 19,
   "id": "dd32853e",
   "metadata": {},
   "outputs": [
    {
     "name": "stdout",
     "output_type": "stream",
     "text": [
      "Country with minimum total cases per 1 million in Europe: [['Slovakia']]\n"
     ]
    }
   ],
   "source": [
    "countries = covid_country[eu_ind,0]\n",
    "case = covid_data[eu_ind,0]\n",
    "#min_case = np.argmin(case)\n",
    "min_case = np.min(case)\n",
    "all_min_ind = np.where(case[0,:] == min_case)\n",
    "#print(\"Country with minimum total cases per 1 million in Europe:\", countries[0, min_case])\n",
    "print(\"Country with minimum total cases per 1 million in Europe:\", countries[0, all_min_ind])"
   ]
  },
  {
   "cell_type": "markdown",
   "id": "121c6e44",
   "metadata": {},
   "source": [
    "i.\tCreate a new array, test_result, where the first column contains country names, and the second column contains the deaths per 1 million. Hint: your new array should have 2 columns and 172 rows, not 172 columns and 2 rows."
   ]
  },
  {
   "cell_type": "code",
   "execution_count": 20,
   "id": "50b6138c",
   "metadata": {},
   "outputs": [],
   "source": [
    "test_result = np.array([covid_country[:,0],covid_data[:,1]]).T"
   ]
  },
  {
   "cell_type": "markdown",
   "id": "889ab60f",
   "metadata": {},
   "source": [
    "j.\tOutput the data in test_result to a file, test_result.txt."
   ]
  },
  {
   "cell_type": "code",
   "execution_count": 22,
   "id": "f5c7a475",
   "metadata": {},
   "outputs": [],
   "source": [
    "np.savetxt(\"test_data.txt\", test_result, fmt = '%s')"
   ]
  },
  {
   "cell_type": "code",
   "execution_count": 23,
   "id": "ca833b50",
   "metadata": {},
   "outputs": [
    {
     "data": {
      "text/plain": [
       "array([['USA', '492.0'],\n",
       "       ['Brazil', '464.0'],\n",
       "       ['India', '30.0'],\n",
       "       ['Russia', '100.0'],\n",
       "       ['South_Africa', '162.0'],\n",
       "       ['Mexico', '391.0'],\n",
       "       ['Peru', '619.0'],\n",
       "       ['Chile', '517.0'],\n",
       "       ['Colombia', '234.0'],\n",
       "       ['Spain', '610.0'],\n",
       "       ['Iran', '214.0'],\n",
       "       ['UK', '683.0'],\n",
       "       ['Saudi_Arabia', '88.0'],\n",
       "       ['Pakistan', '27.0'],\n",
       "       ['Bangladesh', '20.0'],\n",
       "       ['Italy', '582.0'],\n",
       "       ['Turkey', '69.0'],\n",
       "       ['Argentina', '94.0'],\n",
       "       ['Germany', '110.0'],\n",
       "       ['France', '464.0'],\n",
       "       ['Iraq', '128.0'],\n",
       "       ['Philippines', '20.0'],\n",
       "       ['Indonesia', '20.0'],\n",
       "       ['Canada', '237.0'],\n",
       "       ['Qatar', '63.0'],\n",
       "       ['Kazakhstan', '56.0'],\n",
       "       ['Egypt', '48.0'],\n",
       "       ['Ecuador', '333.0'],\n",
       "       ['Bolivia', '296.0'],\n",
       "       ['Sweden', '571.0'],\n",
       "       ['Oman', '96.0'],\n",
       "       ['Israel', '63.0'],\n",
       "       ['Ukraine', '42.0'],\n",
       "       ['Dominican_Republic', '115.0'],\n",
       "       ['Panama', '364.0'],\n",
       "       ['Belgium', '850.0'],\n",
       "       ['Kuwait', '110.0'],\n",
       "       ['Belarus', '61.0'],\n",
       "       ['UAE', '36.0'],\n",
       "       ['Romania', '133.0'],\n",
       "       ['Netherlands', '359.0'],\n",
       "       ['Singapore', '5.0'],\n",
       "       ['Guatemala', '118.0'],\n",
       "       ['Portugal', '171.0'],\n",
       "       ['Poland', '47.0'],\n",
       "       ['Nigeria', '5.0'],\n",
       "       ['Honduras', '143.0'],\n",
       "       ['Bahrain', '91.0'],\n",
       "       ['Japan', '8.0'],\n",
       "       ['Armenia', '260.0'],\n",
       "       ['Ghana', '6.0'],\n",
       "       ['Kyrgyzstan', '221.0'],\n",
       "       ['Afghanistan', '33.0'],\n",
       "       ['Switzerland', '229.0'],\n",
       "       ['Azerbaijan', '47.0'],\n",
       "       ['Morocco', '12.0'],\n",
       "       ['Uzbekistan', '5.0'],\n",
       "       ['Serbia', '71.0'],\n",
       "       ['Moldova', '205.0'],\n",
       "       ['Ireland', '358.0'],\n",
       "       ['Kenya', '7.0'],\n",
       "       ['Venezuela', '7.0'],\n",
       "       ['Nepal', '2.0'],\n",
       "       ['Austria', '80.0'],\n",
       "       ['Costa_Rica', '39.0'],\n",
       "       ['Ethiopia', '3.0'],\n",
       "       ['Australia', '10.0'],\n",
       "       ['El_Salvador', '79.0'],\n",
       "       ['Czechia', '36.0'],\n",
       "       ['Cameroon', '15.0'],\n",
       "       ['Ivory_Coast', '4.0'],\n",
       "       ['South_Korea', '6.0'],\n",
       "       ['Denmark', '106.0'],\n",
       "       ['Palestine', '18.0'],\n",
       "       ['Bosnia_Herzegovina', '117.0'],\n",
       "       ['Bulgaria', '63.0'],\n",
       "       ['Madagascar', '5.0'],\n",
       "       ['Sudan', '17.0'],\n",
       "       ['North_Macedonia', '248.0'],\n",
       "       ['Senegal', '13.0'],\n",
       "       ['Norway', '47.0'],\n",
       "       ['Malaysia', '4.0'],\n",
       "       ['French_Guiana', '157.0'],\n",
       "       ['Gabon', '23.0'],\n",
       "       ['Guinea', '4.0'],\n",
       "       ['Haiti', '15.0'],\n",
       "       ['Finland', '60.0'],\n",
       "       ['Zambia', '11.0'],\n",
       "       ['Luxembourg', '190.0'],\n",
       "       ['Mauritania', '34.0'],\n",
       "       ['Paraguay', '9.0'],\n",
       "       ['Albania', '65.0'],\n",
       "       ['Lebanon', '10.0'],\n",
       "       ['Croatia', '38.0'],\n",
       "       ['Djibouti', '60.0'],\n",
       "       ['Greece', '20.0'],\n",
       "       ['Libya', '16.0'],\n",
       "       ['Equatorial_Guinea', '59.0'],\n",
       "       ['Maldives', '35.0'],\n",
       "       ['CAR', '12.0'],\n",
       "       ['Hungary', '62.0'],\n",
       "       ['Malawi', '7.0'],\n",
       "       ['Zimbabwe', '6.0'],\n",
       "       ['Hong_Kong', '6.0'],\n",
       "       ['Montenegro', '96.0'],\n",
       "       ['Thailand', '0.8'],\n",
       "       ['Mayotte', '143.0'],\n",
       "       ['Eswatini', '47.0'],\n",
       "       ['Sri_Lanka', '0.5'],\n",
       "       ['Cuba', '8.0'],\n",
       "       ['Cabo_Verde', '49.0'],\n",
       "       ['Namibia', '6.0'],\n",
       "       ['Mali', '6.0'],\n",
       "       ['Slovakia', '5.0'],\n",
       "       ['South_Sudan', '4.0'],\n",
       "       ['Slovenia', '60.0'],\n",
       "       ['Lithuania', '30.0'],\n",
       "       ['Estonia', '47.0'],\n",
       "       ['Mozambique', '0.5'],\n",
       "       ['Rwanda', '0.4'],\n",
       "       ['Suriname', '49.0'],\n",
       "       ['Guinea-Bissau', '14.0'],\n",
       "       ['Benin', '3.0'],\n",
       "       ['Iceland', '29.0'],\n",
       "       ['Tunisia', '4.0'],\n",
       "       ['New_Zealand', '4.0'],\n",
       "       ['Angola', '2.0'],\n",
       "       ['Uruguay', '11.0'],\n",
       "       ['Latvia', '17.0'],\n",
       "       ['Jordan', '1.0'],\n",
       "       ['Uganda', '0.1'],\n",
       "       ['Cyprus', '16.0'],\n",
       "       ['Georgia', '4.0'],\n",
       "       ['Niger', '3.0'],\n",
       "       ['Togo', '3.0'],\n",
       "       ['Jamaica', '4.0'],\n",
       "       ['Malta', '20.0'],\n",
       "       ['Andorra', '673.0'],\n",
       "       ['Gambia', '7.0'],\n",
       "       ['SaoTome_Principe', '68.0'],\n",
       "       ['Botswana', '0.8'],\n",
       "       ['Bahamas', '36.0'],\n",
       "       ['Vietnam', '0.1'],\n",
       "       ['Lesotho', '11.0'],\n",
       "       ['San_Marino', '1238.0'],\n",
       "       ['Reunion', '6.0'],\n",
       "       ['Channel_Islands', '270.0'],\n",
       "       ['Guyana', '28.0'],\n",
       "       ['Taiwan', '0.3'],\n",
       "       ['Burundi', '0.08'],\n",
       "       ['Myanmar', '0.1'],\n",
       "       ['Mauritius', '8.0'],\n",
       "       ['Isle_of_Man', '282.0'],\n",
       "       ['Guadeloupe', '35.0'],\n",
       "       ['Martinique', '40.0'],\n",
       "       ['Aruba', '28.0'],\n",
       "       ['Trinidad_Tobago', '6.0'],\n",
       "       ['Cayman_Islands', '15.0'],\n",
       "       ['Papua_New_Guinea', '0.3'],\n",
       "       ['Sint_Maarten', '373.0'],\n",
       "       ['Bermuda', '145.0'],\n",
       "       ['Brunei', '7.0'],\n",
       "       ['Barbados', '24.0'],\n",
       "       ['Turks_and_Caicos', '52.0'],\n",
       "       ['Monaco', '102.0'],\n",
       "       ['Antigua_Barbuda', '31.0'],\n",
       "       ['Liechtenstein', '26.0'],\n",
       "       ['Belize', '5.0'],\n",
       "       ['Saint_Martin', '77.0'],\n",
       "       ['Curacao', '6.0'],\n",
       "       ['Fiji', '1.0'],\n",
       "       ['Montserrat', '200.0']], dtype='<U32')"
      ]
     },
     "execution_count": 23,
     "metadata": {},
     "output_type": "execute_result"
    }
   ],
   "source": [
    "test_result"
   ]
  },
  {
   "cell_type": "code",
   "execution_count": null,
   "id": "53d093b1",
   "metadata": {},
   "outputs": [],
   "source": []
  }
 ],
 "metadata": {
  "kernelspec": {
   "display_name": "Python 3 (ipykernel)",
   "language": "python",
   "name": "python3"
  },
  "language_info": {
   "codemirror_mode": {
    "name": "ipython",
    "version": 3
   },
   "file_extension": ".py",
   "mimetype": "text/x-python",
   "name": "python",
   "nbconvert_exporter": "python",
   "pygments_lexer": "ipython3",
   "version": "3.8.8"
  }
 },
 "nbformat": 4,
 "nbformat_minor": 5
}
